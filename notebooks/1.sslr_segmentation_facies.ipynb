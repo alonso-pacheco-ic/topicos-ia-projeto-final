{
 "cells": [
  {
   "cell_type": "markdown",
   "metadata": {},
   "source": [
    "### SELF-SUPERVISED REPRESENTATION LEARNING\n",
    "Apredizaje Auto-Supervisado utilizando una tarea de Pretexto con SimCLR y haciendo fine-tuning con la arquitectura U-NET para Segmentación de Facies Sismicas."
   ]
  },
  {
   "cell_type": "code",
   "execution_count": 1,
   "metadata": {},
   "outputs": [],
   "source": [
    "import sys\n",
    "import os\n",
    "\n",
    "# Agrega el directorio raíz al PYTHONPATH\n",
    "sys.path.append(os.path.abspath(\"..\"))"
   ]
  },
  {
   "cell_type": "code",
   "execution_count": 2,
   "metadata": {},
   "outputs": [
    {
     "name": "stderr",
     "output_type": "stream",
     "text": [
      "/usr/local/lib/python3.10/dist-packages/_distutils_hack/__init__.py:53: UserWarning: Reliance on distutils from stdlib is deprecated. Users must rely on setuptools to provide the distutils module. Avoid importing distutils or import setuptools first, and avoid setting SETUPTOOLS_USE_DISTUTILS=stdlib. Register concerns at https://github.com/pypa/setuptools/issues/new?template=distutils-deprecation.yml\n",
      "  warnings.warn(\n"
     ]
    }
   ],
   "source": [
    "# Others Libraries\n",
    "import os\n",
    "import torch\n",
    "import glob\n",
    "import numpy as np\n",
    "from lightning import Trainer\n",
    "from lightning import seed_everything\n",
    "from lightning.pytorch.callbacks import ModelCheckpoint\n",
    "\n",
    "# SSL Technique\n",
    "from dev.models.ssl.simclr import SimCLRModel\n",
    "from dev.models.ssl.encoder import ResNetEncoder\n",
    "from dev.data.data_modules.imagenet import TinyImageNetDataModule\n",
    "\n",
    "# Downstream\n",
    "from dev.models.nets.image.unet import UNetLightning\n",
    "from dev.data.data_modules.f3 import Padding\n",
    "from dev.data.data_modules.f3 import F3DataModule "
   ]
  },
  {
   "cell_type": "code",
   "execution_count": null,
   "metadata": {},
   "outputs": [
    {
     "name": "stdout",
     "output_type": "stream",
     "text": [
      "['val', 'wnids.txt', 'words.txt', 'test', 'train']\n"
     ]
    }
   ],
   "source": [
    "# Check if the dataset path exists\n",
    "print(os.listdir('/workspaces/Minerva-Dev-Container/shared_data/imagenet/tiny-imagenet-200'))"
   ]
  },
  {
   "cell_type": "code",
   "execution_count": null,
   "metadata": {},
   "outputs": [
    {
     "name": "stdout",
     "output_type": "stream",
     "text": [
      "torch.Size([256, 3, 64, 64]) torch.Size([256, 3, 64, 64])\n"
     ]
    }
   ],
   "source": [
    "# Create the DataModule\n",
    "data_module_simclr = TinyImageNetDataModule(\n",
    "    data_dir='/workspaces/Minerva-Dev-Container/shared_data/imagenet/tiny-imagenet-200',\n",
    "    batch_size=256,\n",
    "    num_workers=4\n",
    ")\n",
    "\n",
    "# Create the TrainLoader\n",
    "data_module_simclr.setup()\n",
    "train_loader_simclr = data_module_simclr.train_dataloader()\n",
    "\n",
    "for x1, x2 in train_loader_simclr:\n",
    "    print(x1.shape, x2.shape)  # Verificar las formas\n",
    "    break"
   ]
  },
  {
   "cell_type": "code",
   "execution_count": 9,
   "metadata": {},
   "outputs": [
    {
     "name": "stdout",
     "output_type": "stream",
     "text": [
      "No se encontraron checkpoints en la carpeta especificada.\n"
     ]
    }
   ],
   "source": [
    "checkpoint_dir = \"/workspaces/Minerva-Dev-Container/checkpoints/simclr\"\n",
    "checkpoints = glob.glob(os.path.join(checkpoint_dir, \"*.ckpt\"))\n",
    "\n",
    "if checkpoints:  # Comprueba si hay checkpoints disponibles\n",
    "    latest_checkpoint = max(checkpoints, key=os.path.getctime)\n",
    "    print(f\"Último checkpoint: {latest_checkpoint}\")\n",
    "else:\n",
    "    print(\"No se encontraron checkpoints en la carpeta especificada.\")"
   ]
  },
  {
   "cell_type": "code",
   "execution_count": null,
   "metadata": {},
   "outputs": [
    {
     "name": "stderr",
     "output_type": "stream",
     "text": [
      "/usr/local/lib/python3.10/dist-packages/torchvision/models/_utils.py:208: UserWarning: The parameter 'pretrained' is deprecated since 0.13 and may be removed in the future, please use 'weights' instead.\n",
      "  warnings.warn(\n",
      "/usr/local/lib/python3.10/dist-packages/torchvision/models/_utils.py:223: UserWarning: Arguments other than a weight enum or `None` for 'weights' are deprecated since 0.13 and may be removed in the future. The current behavior is equivalent to passing `weights=ResNet18_Weights.IMAGENET1K_V1`. You can also use `weights=ResNet18_Weights.DEFAULT` to get the most up-to-date weights.\n",
      "  warnings.warn(msg)\n",
      "GPU available: True (cuda), used: True\n",
      "TPU available: False, using: 0 TPU cores\n",
      "HPU available: False, using: 0 HPUs\n",
      "LOCAL_RANK: 0 - CUDA_VISIBLE_DEVICES: [0]\n",
      "\n",
      "  | Name            | Type          | Params | Mode \n",
      "----------------------------------------------------------\n",
      "0 | encoder         | ResNetEncoder | 11.2 M | train\n",
      "1 | projection_head | Sequential    | 164 K  | train\n",
      "----------------------------------------------------------\n",
      "11.3 M    Trainable params\n",
      "0         Non-trainable params\n",
      "11.3 M    Total params\n",
      "45.363    Total estimated model params size (MB)\n",
      "72        Modules in train mode\n",
      "0         Modules in eval mode\n"
     ]
    },
    {
     "name": "stdout",
     "output_type": "stream",
     "text": [
      "Epoch 2:  18%|█▊        | 72/391 [00:09<00:44,  7.20it/s, v_num=45] "
     ]
    }
   ],
   "source": [
    "# Crear una instancia del encoder\n",
    "encoder_simclr = ResNetEncoder()\n",
    "\n",
    "# Configuración del checkpoint\n",
    "checkpoint_callback = ModelCheckpoint(\n",
    "    dirpath=\"/workspaces/Minerva-Dev-Container/checkpoints/simclr\",  # Carpeta donde se guardará el checkpoint\n",
    "    filename=\"simclr-{epoch:02d}-{loss:.2f}\",  # Nombre del archivo\n",
    "    monitor=\"train_loss\",  # Métrica para guardar el mejor modelo\n",
    "    save_top_k=1,  # Guarda el mejor modelo\n",
    "    mode=\"min\"  # Modo de monitoreo ('min' para minimizar la pérdida)\n",
    ")\n",
    "\n",
    "# Configuración del entrenador\n",
    "trainer_simclr = Trainer(\n",
    "    max_epochs=150, \n",
    "    accelerator=\"gpu\", \n",
    "    devices=1,\n",
    "    callbacks=[checkpoint_callback]\n",
    "    #,resume_from_checkpoint=latest_checkpoint\n",
    ")\n",
    "\n",
    "# Instanciar y entrenar el modelo\n",
    "model_simclr = SimCLRModel(encoder=encoder_simclr)\n",
    "trainer_simclr.fit(model_simclr, train_loader_simclr)"
   ]
  },
  {
   "cell_type": "markdown",
   "metadata": {},
   "source": [
    "#### FINE-TUNING"
   ]
  },
  {
   "cell_type": "code",
   "execution_count": null,
   "metadata": {},
   "outputs": [],
   "source": [
    "# Define las rutas de tu dataset\n",
    "train_path = '/workspaces/Minerva-Dev-Container/shared_data/f3_segmentation/images'\n",
    "annotations_path = '/workspaces/Minerva-Dev-Container/shared_data/f3_segmentation/annotations'"
   ]
  },
  {
   "cell_type": "code",
   "execution_count": null,
   "metadata": {},
   "outputs": [],
   "source": [
    "# Instancia el DataModule y configura el conjunto de datos\n",
    "data_module_unet = F3DataModule(\n",
    "    train_path=train_path,\n",
    "    annotations_path=annotations_path,\n",
    "    transforms=Padding(target_h_size=256, target_w_size=704),\n",
    "    batch_size=1\n",
    ")\n",
    "data_module_unet.setup(stage=\"fit\")\n",
    "\n",
    "# Usa el encoder preentrenado de SimCLR\n",
    "#simclr_model = SimCLRModel.load_from_checkpoint(\"/workspaces/Minerva-Dev-Container/checkpoints/simclr-epoch=99-loss=0.05.ckpt\")\n",
    "encoder_simclr = model_simclr.encoder\n",
    "\n",
    "# Instancia el modelo U-Net con 3 canales de entrada\n",
    "model_unet = UNetLightning(in_channels=3, num_classes=6)\n",
    "model_unet.encoder = encoder_simclr # Sustituye el encoder del U-Net\n",
    "\n",
    "# Opcional: Congelar los pesos del encoder\n",
    "for param in model_unet.encoder.parameters():\n",
    "    param.requires_grad = False"
   ]
  },
  {
   "cell_type": "code",
   "execution_count": null,
   "metadata": {},
   "outputs": [
    {
     "name": "stdout",
     "output_type": "stream",
     "text": [
      "El pase hacia adelante fue exitoso. Dimensiones de salida: torch.Size([1, 6, 256, 704])\n"
     ]
    }
   ],
   "source": [
    "# Solo para depuracion\n",
    "\n",
    "# Carga un lote de datos del DataLoader de entrenamiento\n",
    "train_dataloader_unet = data_module_unet.train_dataloader()\n",
    "batch = next(iter(train_dataloader_unet))  # Obtén el primer lote de datos\n",
    "images, labels = batch\n",
    "\n",
    "# Realiza un pase hacia adelante\n",
    "try:\n",
    "    outputs = model_unet(images)  # Pasa las imágenes a través del modelo\n",
    "    print(\"El pase hacia adelante fue exitoso. Dimensiones de salida:\", outputs.shape)\n",
    "except RuntimeError as e:\n",
    "    print(\"Error en el pase hacia adelante:\", e)"
   ]
  },
  {
   "cell_type": "code",
   "execution_count": null,
   "metadata": {},
   "outputs": [],
   "source": [
    "# Establecer la semilla para la reproducibilidad\n",
    "seed = 42\n",
    "seed_everything(seed)\n",
    "\n",
    "# Si prefieres personalizar más el entorno (opcional):\n",
    "torch.backends.cudnn.deterministic = True\n",
    "torch.backends.cudnn.benchmark = False"
   ]
  },
  {
   "cell_type": "code",
   "execution_count": null,
   "metadata": {},
   "outputs": [],
   "source": [
    "checkpoint_dir_u = \"/workspaces/Minerva-Dev-Container/checkpoints/unet\"\n",
    "checkpoints_u = glob.glob(os.path.join(checkpoint_dir_u, \"*.ckpt\"))\n",
    "\n",
    "if checkpoint_dir_u:  # Comprueba si hay checkpoints disponibles\n",
    "    latest_checkpoint_u = max(checkpoints, key=os.path.getctime)\n",
    "    print(f\"Último checkpoint: {latest_checkpoint_u}\")\n",
    "else:\n",
    "    print(\"No se encontraron checkpoints en la carpeta especificada.\")"
   ]
  },
  {
   "cell_type": "code",
   "execution_count": null,
   "metadata": {},
   "outputs": [],
   "source": [
    "# Configuration of the checkpoint\n",
    "checkpoint_callback_u = ModelCheckpoint(\n",
    "    dirpath=\"/workspaces/Minerva-Dev-Container/checkpoints/unet\",  # Carpeta donde se guardará el checkpoint\n",
    "    filename=\"unet-{epoch:02d}-{loss:.2f}\",  # Nombre del archivo\n",
    "    monitor=\"train_loss\",  # Métrica para guardar el mejor modelo\n",
    "    save_top_k=1,  # Guarda el mejor modelo\n",
    "    mode=\"min\"  # Modo de monitoreo ('min' para minimizar la pérdida)\n",
    ")"
   ]
  },
  {
   "cell_type": "code",
   "execution_count": null,
   "metadata": {},
   "outputs": [
    {
     "name": "stderr",
     "output_type": "stream",
     "text": [
      "GPU available: True (cuda), used: True\n",
      "TPU available: False, using: 0 TPU cores\n",
      "HPU available: False, using: 0 HPUs\n"
     ]
    },
    {
     "name": "stderr",
     "output_type": "stream",
     "text": [
      "LOCAL_RANK: 0 - CUDA_VISIBLE_DEVICES: [0]\n",
      "\n",
      "   | Name       | Type                   | Params | Mode \n",
      "---------------------------------------------------------------\n",
      "0  | model      | UNet                   | 1.6 M  | train\n",
      "1  | train_miou | MulticlassJaccardIndex | 0      | train\n",
      "2  | val_miou   | MulticlassJaccardIndex | 0      | train\n",
      "3  | test_miou  | MulticlassJaccardIndex | 0      | train\n",
      "4  | train_mca  | MulticlassAccuracy     | 0      | train\n",
      "5  | val_mca    | MulticlassAccuracy     | 0      | train\n",
      "6  | test_mca   | MulticlassAccuracy     | 0      | train\n",
      "7  | train_pa   | MulticlassAccuracy     | 0      | train\n",
      "8  | val_pa     | MulticlassAccuracy     | 0      | train\n",
      "9  | test_pa    | MulticlassAccuracy     | 0      | train\n",
      "10 | encoder    | ResNetEncoder          | 11.2 M | train\n",
      "---------------------------------------------------------------\n",
      "1.6 M     Trainable params\n",
      "11.2 M    Non-trainable params\n",
      "12.7 M    Total params\n",
      "50.925    Total estimated model params size (MB)\n",
      "106       Modules in train mode\n",
      "0         Modules in eval mode\n"
     ]
    },
    {
     "name": "stdout",
     "output_type": "stream",
     "text": [
      "Epoch 99: 100%|██████████| 992/992 [01:08<00:00, 14.56it/s, v_num=35]      "
     ]
    },
    {
     "name": "stderr",
     "output_type": "stream",
     "text": [
      "`Trainer.fit` stopped: `max_epochs=100` reached.\n"
     ]
    },
    {
     "name": "stdout",
     "output_type": "stream",
     "text": [
      "Epoch 99: 100%|██████████| 992/992 [01:08<00:00, 14.40it/s, v_num=35]\n"
     ]
    }
   ],
   "source": [
    "trainer_unet = Trainer(\n",
    "    max_epochs=150, \n",
    "    accelerator=\"gpu\", \n",
    "    devices=1,\n",
    "    callbacks=[checkpoint_callback_u]\n",
    "    #,resume_from_checkpoint=latest_checkpoint\n",
    ")\n",
    "trainer_unet.fit(model_unet, data_module_unet)"
   ]
  },
  {
   "cell_type": "code",
   "execution_count": null,
   "metadata": {},
   "outputs": [],
   "source": [
    "# Graficar pérdidas después del entrenamiento\n",
    "import matplotlib.pyplot as plt\n",
    "\n",
    "plt.plot(model_unet.train_losses, label='Train Loss')\n",
    "plt.plot(model_unet.val_losses, label='Validation Loss')\n",
    "plt.xlabel('Epoch')\n",
    "plt.ylabel('Loss')\n",
    "plt.title('Train vs Validation Loss')\n",
    "plt.legend()\n",
    "plt.show()"
   ]
  },
  {
   "cell_type": "code",
   "execution_count": null,
   "metadata": {},
   "outputs": [
    {
     "name": "stderr",
     "output_type": "stream",
     "text": [
      "LOCAL_RANK: 0 - CUDA_VISIBLE_DEVICES: [0]\n"
     ]
    },
    {
     "name": "stdout",
     "output_type": "stream",
     "text": [
      "Testing DataLoader 0: 100%|██████████| 400/400 [00:13<00:00, 29.52it/s]\n"
     ]
    },
    {
     "data": {
      "text/html": [
       "<pre style=\"white-space:pre;overflow-x:auto;line-height:normal;font-family:Menlo,'DejaVu Sans Mono',consolas,'Courier New',monospace\">┏━━━━━━━━━━━━━━━━━━━━━━━━━━━┳━━━━━━━━━━━━━━━━━━━━━━━━━━━┓\n",
       "┃<span style=\"font-weight: bold\">        Test metric        </span>┃<span style=\"font-weight: bold\">       DataLoader 0        </span>┃\n",
       "┡━━━━━━━━━━━━━━━━━━━━━━━━━━━╇━━━━━━━━━━━━━━━━━━━━━━━━━━━┩\n",
       "│<span style=\"color: #008080; text-decoration-color: #008080\">         test_MCA          </span>│<span style=\"color: #800080; text-decoration-color: #800080\">     0.713958203792572     </span>│\n",
       "│<span style=\"color: #008080; text-decoration-color: #008080\">          test_PA          </span>│<span style=\"color: #800080; text-decoration-color: #800080\">    0.8633603453636169     </span>│\n",
       "│<span style=\"color: #008080; text-decoration-color: #008080\">         test_loss         </span>│<span style=\"color: #800080; text-decoration-color: #800080\">     2.179969072341919     </span>│\n",
       "│<span style=\"color: #008080; text-decoration-color: #008080\">         test_mIoU         </span>│<span style=\"color: #800080; text-decoration-color: #800080\">    0.5912652015686035     </span>│\n",
       "└───────────────────────────┴───────────────────────────┘\n",
       "</pre>\n"
      ],
      "text/plain": [
       "┏━━━━━━━━━━━━━━━━━━━━━━━━━━━┳━━━━━━━━━━━━━━━━━━━━━━━━━━━┓\n",
       "┃\u001b[1m \u001b[0m\u001b[1m       Test metric       \u001b[0m\u001b[1m \u001b[0m┃\u001b[1m \u001b[0m\u001b[1m      DataLoader 0       \u001b[0m\u001b[1m \u001b[0m┃\n",
       "┡━━━━━━━━━━━━━━━━━━━━━━━━━━━╇━━━━━━━━━━━━━━━━━━━━━━━━━━━┩\n",
       "│\u001b[36m \u001b[0m\u001b[36m        test_MCA         \u001b[0m\u001b[36m \u001b[0m│\u001b[35m \u001b[0m\u001b[35m    0.713958203792572    \u001b[0m\u001b[35m \u001b[0m│\n",
       "│\u001b[36m \u001b[0m\u001b[36m         test_PA         \u001b[0m\u001b[36m \u001b[0m│\u001b[35m \u001b[0m\u001b[35m   0.8633603453636169    \u001b[0m\u001b[35m \u001b[0m│\n",
       "│\u001b[36m \u001b[0m\u001b[36m        test_loss        \u001b[0m\u001b[36m \u001b[0m│\u001b[35m \u001b[0m\u001b[35m    2.179969072341919    \u001b[0m\u001b[35m \u001b[0m│\n",
       "│\u001b[36m \u001b[0m\u001b[36m        test_mIoU        \u001b[0m\u001b[36m \u001b[0m│\u001b[35m \u001b[0m\u001b[35m   0.5912652015686035    \u001b[0m\u001b[35m \u001b[0m│\n",
       "└───────────────────────────┴───────────────────────────┘\n"
      ]
     },
     "metadata": {},
     "output_type": "display_data"
    },
    {
     "data": {
      "text/plain": [
       "[{'test_loss': 2.179969072341919,\n",
       "  'test_mIoU': 0.5912652015686035,\n",
       "  'test_MCA': 0.713958203792572,\n",
       "  'test_PA': 0.8633603453636169}]"
      ]
     },
     "execution_count": 9,
     "metadata": {},
     "output_type": "execute_result"
    }
   ],
   "source": [
    "trainer_unet.test(model_unet, data_module_unet)"
   ]
  },
  {
   "cell_type": "code",
   "execution_count": null,
   "metadata": {},
   "outputs": [],
   "source": [
    "model_unet.eval()\n",
    "preds_unet = []\n",
    "for batch in data_module_unet.predict_dataloader():\n",
    "    inputs = batch[0].to(model_unet.device)  # Asegúrate de enviar los datos al dispositivo correcto\n",
    "    with torch.no_grad():\n",
    "        output = model_unet(inputs)\n",
    "    preds_unet.append(output)\n",
    "preds_unet = torch.cat(preds_unet)\n",
    "\n",
    "#print(preds_unet.shape)  # Verifica la forma de las predicciones\n",
    "\n",
    "preds_unet_classes = torch.argmax(preds_unet, dim=1)\n",
    "#print(preds_unet_classes.shape)  # Verifica la forma de las clases predichas"
   ]
  },
  {
   "cell_type": "code",
   "execution_count": null,
   "metadata": {},
   "outputs": [
    {
     "data": {
      "image/png": "[encoded data removed]",
      "text/plain": [
       "<Figure size 640x480 with 1 Axes>"
      ]
     },
     "metadata": {},
     "output_type": "display_data"
    }
   ],
   "source": [
    "from matplotlib.colors import ListedColormap\n",
    "import matplotlib.pyplot as plt\n",
    "\n",
    "# Define el mapa de colores personalizado\n",
    "label_cmap = ListedColormap(\n",
    "    [\n",
    "        [0.29411764705882354, 0.4392156862745098, 0.7333333333333333],\n",
    "        [0.5882352941176471, 0.7607843137254902, 0.8666666666666667],\n",
    "        [0.8901960784313725, 0.9647058823529412, 0.9764705882352941],\n",
    "        [0.9803921568627451, 0.8745098039215686, 0.4666666666666667],\n",
    "        [0.9607843137254902, 0.47058823529411764, 0.29411764705882354],\n",
    "        [0.8470588235294118, 0.1568627450980392, 0.1411764705882353],\n",
    "    ]\n",
    ")\n",
    "\n",
    "# Visualizar la primera predicción con el mapa de colores personalizado\n",
    "plt.imshow(preds_unet_classes[0].cpu().numpy(), cmap=label_cmap)\n",
    "plt.title(\"Predicted Classes with Custom Color Map\")\n",
    "plt.show()"
   ]
  },
  {
   "cell_type": "markdown",
   "metadata": {},
   "source": [
    "### SUPERVISED LEARNING\n",
    "Apredizaje Supervisado utilizando la arquitectura U-NET para Segmentación de Facies Sismicas."
   ]
  },
  {
   "cell_type": "code",
   "execution_count": null,
   "metadata": {},
   "outputs": [],
   "source": [
    "# Define las rutas de tu dataset\n",
    "train_path = '/workspaces/Minerva-Dev-Container/shared_data/f3_segmentation/images'\n",
    "annotations_path = '/workspaces/Minerva-Dev-Container/shared_data/f3_segmentation/annotations'"
   ]
  },
  {
   "cell_type": "code",
   "execution_count": null,
   "metadata": {},
   "outputs": [],
   "source": [
    "# Instancia el DataModule y configura el conjunto de datos\n",
    "data_module_s = F3DataModule(\n",
    "    train_path=train_path,\n",
    "    annotations_path=annotations_path,\n",
    "    transforms=Padding(target_h_size=256, target_w_size=704),\n",
    "    batch_size=1\n",
    ")\n",
    "data_module_s.setup(stage=\"fit\")\n",
    "\n",
    "# Instancia el modelo U-Net con 3 canales de entrada\n",
    "model_s = UNetLightning(in_channels=3, num_classes=6)"
   ]
  },
  {
   "cell_type": "code",
   "execution_count": null,
   "metadata": {},
   "outputs": [
    {
     "name": "stdout",
     "output_type": "stream",
     "text": [
      "El pase hacia adelante fue exitoso. Dimensiones de salida: torch.Size([1, 6, 256, 704])\n"
     ]
    }
   ],
   "source": [
    "# Solo para depuracion\n",
    "\n",
    "# Carga un lote de datos del DataLoader de entrenamiento\n",
    "train_dataloader = data_module_s.train_dataloader()\n",
    "batch = next(iter(train_dataloader))  # Obtén el primer lote de datos\n",
    "images, labels = batch\n",
    "\n",
    "# Realiza un pase hacia adelante\n",
    "try:\n",
    "    outputs = model_s(images)  # Pasa las imágenes a través del modelo\n",
    "    print(\"El pase hacia adelante fue exitoso. Dimensiones de salida:\", outputs.shape)\n",
    "except RuntimeError as e:\n",
    "    print(\"Error en el pase hacia adelante:\", e)"
   ]
  },
  {
   "cell_type": "code",
   "execution_count": null,
   "metadata": {},
   "outputs": [],
   "source": [
    "# Establecer la semilla para la reproducibilidad\n",
    "seed = 42\n",
    "seed_everything(seed)\n",
    "\n",
    "# Si prefieres personalizar más el entorno (opcional):\n",
    "torch.backends.cudnn.deterministic = True\n",
    "torch.backends.cudnn.benchmark = False"
   ]
  },
  {
   "cell_type": "code",
   "execution_count": null,
   "metadata": {},
   "outputs": [],
   "source": [
    "checkpoint_dir_s = \"/workspaces/Minerva-Dev-Container/checkpoints/unet_s\"\n",
    "checkpoints_s = glob.glob(os.path.join(checkpoint_dir_s, \"*.ckpt\"))\n",
    "\n",
    "if checkpoint_dir_s:  # Comprueba si hay checkpoints disponibles\n",
    "    latest_checkpoint_s = max(checkpoints, key=os.path.getctime)\n",
    "    print(f\"Último checkpoint: {latest_checkpoint_s}\")\n",
    "else:\n",
    "    print(\"No se encontraron checkpoints en la carpeta especificada.\")"
   ]
  },
  {
   "cell_type": "code",
   "execution_count": null,
   "metadata": {},
   "outputs": [],
   "source": [
    "# Configuration of the checkpoint\n",
    "checkpoint_callback_s = ModelCheckpoint(\n",
    "    dirpath=\"/workspaces/Minerva-Dev-Container/checkpoints/unet_s\",  # Carpeta donde se guardará el checkpoint\n",
    "    filename=\"unets-{epoch:02d}-{loss:.2f}\",  # Nombre del archivo\n",
    "    monitor=\"train_loss\",  # Métrica para guardar el mejor modelo\n",
    "    save_top_k=1,  # Guarda el mejor modelo\n",
    "    mode=\"min\"  # Modo de monitoreo ('min' para minimizar la pérdida)\n",
    ")"
   ]
  },
  {
   "cell_type": "code",
   "execution_count": null,
   "metadata": {},
   "outputs": [
    {
     "name": "stderr",
     "output_type": "stream",
     "text": [
      "GPU available: True (cuda), used: True\n",
      "TPU available: False, using: 0 TPU cores\n",
      "HPU available: False, using: 0 HPUs\n",
      "LOCAL_RANK: 0 - CUDA_VISIBLE_DEVICES: [0]\n",
      "\n",
      "  | Name       | Type                   | Params | Mode \n",
      "--------------------------------------------------------------\n",
      "0 | model      | UNet                   | 1.6 M  | train\n",
      "1 | train_miou | MulticlassJaccardIndex | 0      | train\n",
      "2 | val_miou   | MulticlassJaccardIndex | 0      | train\n",
      "3 | test_miou  | MulticlassJaccardIndex | 0      | train\n",
      "4 | train_mca  | MulticlassAccuracy     | 0      | train\n",
      "5 | val_mca    | MulticlassAccuracy     | 0      | train\n",
      "6 | test_mca   | MulticlassAccuracy     | 0      | train\n",
      "7 | train_pa   | MulticlassAccuracy     | 0      | train\n",
      "8 | val_pa     | MulticlassAccuracy     | 0      | train\n",
      "9 | test_pa    | MulticlassAccuracy     | 0      | train\n",
      "--------------------------------------------------------------\n",
      "1.6 M     Trainable params\n",
      "0         Non-trainable params\n",
      "1.6 M     Total params\n",
      "6.219     Total estimated model params size (MB)\n",
      "38        Modules in train mode\n",
      "0         Modules in eval mode\n"
     ]
    },
    {
     "name": "stdout",
     "output_type": "stream",
     "text": [
      "Epoch 99: 100%|██████████| 992/992 [00:21<00:00, 45.50it/s, v_num=36]      "
     ]
    },
    {
     "name": "stderr",
     "output_type": "stream",
     "text": [
      "`Trainer.fit` stopped: `max_epochs=100` reached.\n"
     ]
    },
    {
     "name": "stdout",
     "output_type": "stream",
     "text": [
      "Epoch 99: 100%|██████████| 992/992 [00:22<00:00, 45.02it/s, v_num=36]\n"
     ]
    }
   ],
   "source": [
    "trainer_s = Trainer(\n",
    "    max_epochs=150, \n",
    "    accelerator=\"gpu\", \n",
    "    devices=1,\n",
    "    callbacks=[checkpoint_callback_s]\n",
    "    #,resume_from_checkpoint=latest_checkpoint\n",
    ")\n",
    "trainer_s.fit(model_s, data_module_s)"
   ]
  },
  {
   "cell_type": "code",
   "execution_count": null,
   "metadata": {},
   "outputs": [],
   "source": [
    "# Graficar pérdidas después del entrenamiento\n",
    "import matplotlib.pyplot as plt\n",
    "\n",
    "plt.plot(model_s.train_losses, label='Train Loss')\n",
    "plt.plot(model_s.val_losses, label='Validation Loss')\n",
    "plt.xlabel('Epoch')\n",
    "plt.ylabel('Loss')\n",
    "plt.title('Train vs Validation Loss')\n",
    "plt.legend()\n",
    "plt.show()"
   ]
  },
  {
   "cell_type": "code",
   "execution_count": null,
   "metadata": {},
   "outputs": [
    {
     "name": "stderr",
     "output_type": "stream",
     "text": [
      "LOCAL_RANK: 0 - CUDA_VISIBLE_DEVICES: [0]\n"
     ]
    },
    {
     "name": "stdout",
     "output_type": "stream",
     "text": [
      "Testing DataLoader 0: 100%|██████████| 400/400 [00:13<00:00, 30.34it/s]\n"
     ]
    },
    {
     "data": {
      "text/html": [
       "<pre style=\"white-space:pre;overflow-x:auto;line-height:normal;font-family:Menlo,'DejaVu Sans Mono',consolas,'Courier New',monospace\">┏━━━━━━━━━━━━━━━━━━━━━━━━━━━┳━━━━━━━━━━━━━━━━━━━━━━━━━━━┓\n",
       "┃<span style=\"font-weight: bold\">        Test metric        </span>┃<span style=\"font-weight: bold\">       DataLoader 0        </span>┃\n",
       "┡━━━━━━━━━━━━━━━━━━━━━━━━━━━╇━━━━━━━━━━━━━━━━━━━━━━━━━━━┩\n",
       "│<span style=\"color: #008080; text-decoration-color: #008080\">         test_MCA          </span>│<span style=\"color: #800080; text-decoration-color: #800080\">    0.7117792367935181     </span>│\n",
       "│<span style=\"color: #008080; text-decoration-color: #008080\">          test_PA          </span>│<span style=\"color: #800080; text-decoration-color: #800080\">     0.863506555557251     </span>│\n",
       "│<span style=\"color: #008080; text-decoration-color: #008080\">         test_loss         </span>│<span style=\"color: #800080; text-decoration-color: #800080\">    1.8114826679229736     </span>│\n",
       "│<span style=\"color: #008080; text-decoration-color: #008080\">         test_mIoU         </span>│<span style=\"color: #800080; text-decoration-color: #800080\">    0.5923401117324829     </span>│\n",
       "└───────────────────────────┴───────────────────────────┘\n",
       "</pre>\n"
      ],
      "text/plain": [
       "┏━━━━━━━━━━━━━━━━━━━━━━━━━━━┳━━━━━━━━━━━━━━━━━━━━━━━━━━━┓\n",
       "┃\u001b[1m \u001b[0m\u001b[1m       Test metric       \u001b[0m\u001b[1m \u001b[0m┃\u001b[1m \u001b[0m\u001b[1m      DataLoader 0       \u001b[0m\u001b[1m \u001b[0m┃\n",
       "┡━━━━━━━━━━━━━━━━━━━━━━━━━━━╇━━━━━━━━━━━━━━━━━━━━━━━━━━━┩\n",
       "│\u001b[36m \u001b[0m\u001b[36m        test_MCA         \u001b[0m\u001b[36m \u001b[0m│\u001b[35m \u001b[0m\u001b[35m   0.7117792367935181    \u001b[0m\u001b[35m \u001b[0m│\n",
       "│\u001b[36m \u001b[0m\u001b[36m         test_PA         \u001b[0m\u001b[36m \u001b[0m│\u001b[35m \u001b[0m\u001b[35m    0.863506555557251    \u001b[0m\u001b[35m \u001b[0m│\n",
       "│\u001b[36m \u001b[0m\u001b[36m        test_loss        \u001b[0m\u001b[36m \u001b[0m│\u001b[35m \u001b[0m\u001b[35m   1.8114826679229736    \u001b[0m\u001b[35m \u001b[0m│\n",
       "│\u001b[36m \u001b[0m\u001b[36m        test_mIoU        \u001b[0m\u001b[36m \u001b[0m│\u001b[35m \u001b[0m\u001b[35m   0.5923401117324829    \u001b[0m\u001b[35m \u001b[0m│\n",
       "└───────────────────────────┴───────────────────────────┘\n"
      ]
     },
     "metadata": {},
     "output_type": "display_data"
    },
    {
     "data": {
      "text/plain": [
       "[{'test_loss': 1.8114826679229736,\n",
       "  'test_mIoU': 0.5923401117324829,\n",
       "  'test_MCA': 0.7117792367935181,\n",
       "  'test_PA': 0.863506555557251}]"
      ]
     },
     "execution_count": 16,
     "metadata": {},
     "output_type": "execute_result"
    }
   ],
   "source": [
    "trainer_s.test(model_s, data_module_s)"
   ]
  },
  {
   "cell_type": "code",
   "execution_count": null,
   "metadata": {},
   "outputs": [
    {
     "name": "stdout",
     "output_type": "stream",
     "text": [
      "torch.Size([1, 3, 256, 704])\n"
     ]
    }
   ],
   "source": [
    "# Solo para depuracion\n",
    "\n",
    "for batch in data_module_s.predict_dataloader():\n",
    "    print(batch[0].shape)  # Verifica las dimensiones de las imágenes\n",
    "    break"
   ]
  },
  {
   "cell_type": "code",
   "execution_count": null,
   "metadata": {},
   "outputs": [],
   "source": [
    "model_s.eval()\n",
    "preds = []\n",
    "for batch in data_module_s.predict_dataloader():\n",
    "    inputs = batch[0].to(model_s.device)  # Asegúrate de enviar los datos al dispositivo correcto\n",
    "    with torch.no_grad():\n",
    "        output = model_s(inputs)\n",
    "    preds.append(output)\n",
    "preds = torch.cat(preds)\n",
    "\n",
    "#print(preds.shape)  # Verifica la forma de las predicciones\n",
    "\n",
    "preds_classes = torch.argmax(preds, dim=1)\n",
    "#print(preds_classes.shape)  # Verifica la forma de las clases predichas"
   ]
  },
  {
   "cell_type": "code",
   "execution_count": null,
   "metadata": {},
   "outputs": [
    {
     "data": {
      "image/png": "[encoded data removed]",
      "text/plain": [
       "<Figure size 640x480 with 1 Axes>"
      ]
     },
     "metadata": {},
     "output_type": "display_data"
    }
   ],
   "source": [
    "from matplotlib.colors import ListedColormap\n",
    "import matplotlib.pyplot as plt\n",
    "\n",
    "# Define el mapa de colores personalizado\n",
    "label_cmap = ListedColormap(\n",
    "    [\n",
    "        [0.29411764705882354, 0.4392156862745098, 0.7333333333333333],\n",
    "        [0.5882352941176471, 0.7607843137254902, 0.8666666666666667],\n",
    "        [0.8901960784313725, 0.9647058823529412, 0.9764705882352941],\n",
    "        [0.9803921568627451, 0.8745098039215686, 0.4666666666666667],\n",
    "        [0.9607843137254902, 0.47058823529411764, 0.29411764705882354],\n",
    "        [0.8470588235294118, 0.1568627450980392, 0.1411764705882353],\n",
    "    ]\n",
    ")\n",
    "\n",
    "# Visualizar la primera predicción con el mapa de colores personalizado\n",
    "plt.imshow(preds_classes[0].cpu().numpy(), cmap=label_cmap)\n",
    "plt.title(\"Predicted Classes with Custom Color Map\")\n",
    "plt.show()"
   ]
  }
 ],
 "metadata": {
  "kernelspec": {
   "display_name": "Python 3",
   "language": "python",
   "name": "python3"
  },
  "language_info": {
   "codemirror_mode": {
    "name": "ipython",
    "version": 3
   },
   "file_extension": ".py",
   "mimetype": "text/x-python",
   "name": "python",
   "nbconvert_exporter": "python",
   "pygments_lexer": "ipython3",
   "version": "3.10.6"
  }
 },
 "nbformat": 4,
 "nbformat_minor": 2
}
